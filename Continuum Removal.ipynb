{
 "cells": [
  {
   "cell_type": "code",
   "execution_count": null,
   "metadata": {},
   "outputs": [],
   "source": [
    "%matplotlib nbagg\n",
    "from pysptools import spectro as sp\n",
    "import pandas as pd\n",
    "import matplotlib.pyplot as plt\n",
    "src = r\"N:\\E01_4m try.xlsx\"\n",
    "\n",
    "df = pd.read_excel(src, sheetname='data')\n",
    "\n",
    "wvl = df.columns.tolist() #the wavelength must be a list\n",
    "pixel = list(df.iloc[0,:]) # the spectrum must be a list\n",
    "CR = sp.convex_hull_removal(pixel,wvl)\n",
    "\n",
    "plt.plot(wvl,CR[0])"
   ]
  }
 ],
 "metadata": {
  "kernelspec": {
   "display_name": "Python 2",
   "language": "python",
   "name": "python2"
  },
  "language_info": {
   "codemirror_mode": {
    "name": "ipython",
    "version": 2
   },
   "file_extension": ".py",
   "mimetype": "text/x-python",
   "name": "python",
   "nbconvert_exporter": "python",
   "pygments_lexer": "ipython2",
   "version": "2.7.13"
  }
 },
 "nbformat": 4,
 "nbformat_minor": 2
}
